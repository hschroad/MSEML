{
 "cells": [
  {
   "cell_type": "code",
   "execution_count": 86,
   "metadata": {},
   "outputs": [],
   "source": [
    "# Load in libraries\n",
    "import pandas as pd\n",
    "import numpy as np\n",
    "import matplotlib.pyplot as plt\n",
    "\n",
    "from time import time\n",
    "from sklearn import metrics\n",
    "from sklearn.cluster import KMeans\n",
    "from sklearn.datasets import load_digits\n",
    "from sklearn.decomposition import PCA\n",
    "from sklearn.preprocessing import scale\n",
    "from sklearn.preprocessing import StandardScaler as scaler"
   ]
  },
  {
   "cell_type": "code",
   "execution_count": 89,
   "metadata": {},
   "outputs": [
    {
     "name": "stdout",
     "output_type": "stream",
     "text": [
      "(630, 28)\n"
     ]
    },
    {
     "data": {
      "text/html": [
       "<div>\n",
       "<style scoped>\n",
       "    .dataframe tbody tr th:only-of-type {\n",
       "        vertical-align: middle;\n",
       "    }\n",
       "\n",
       "    .dataframe tbody tr th {\n",
       "        vertical-align: top;\n",
       "    }\n",
       "\n",
       "    .dataframe thead th {\n",
       "        text-align: right;\n",
       "    }\n",
       "</style>\n",
       "<table border=\"1\" class=\"dataframe\">\n",
       "  <thead>\n",
       "    <tr style=\"text-align: right;\">\n",
       "      <th></th>\n",
       "      <th>internal_id</th>\n",
       "      <th>avg_hardness</th>\n",
       "      <th>Al</th>\n",
       "      <th>B</th>\n",
       "      <th>C</th>\n",
       "      <th>Cr</th>\n",
       "      <th>Cu</th>\n",
       "      <th>Fe</th>\n",
       "      <th>Mn</th>\n",
       "      <th>Mo</th>\n",
       "      <th>...</th>\n",
       "      <th>lattice_constant</th>\n",
       "      <th>melting_point</th>\n",
       "      <th>specific_heat</th>\n",
       "      <th>atomic_mass</th>\n",
       "      <th>CTE</th>\n",
       "      <th>electrical_resistivity</th>\n",
       "      <th>atomic_radius</th>\n",
       "      <th>density_of_solid</th>\n",
       "      <th>poissons_ratio</th>\n",
       "      <th>max_min_radius</th>\n",
       "    </tr>\n",
       "  </thead>\n",
       "  <tbody>\n",
       "    <tr>\n",
       "      <th>0</th>\n",
       "      <td>COME029</td>\n",
       "      <td>80</td>\n",
       "      <td>0</td>\n",
       "      <td>0</td>\n",
       "      <td>0</td>\n",
       "      <td>0</td>\n",
       "      <td>0</td>\n",
       "      <td>48</td>\n",
       "      <td>0</td>\n",
       "      <td>0</td>\n",
       "      <td>...</td>\n",
       "      <td>3.208</td>\n",
       "      <td>1765.36</td>\n",
       "      <td>0.443</td>\n",
       "      <td>57.3262</td>\n",
       "      <td>1.2632e-05</td>\n",
       "      <td>8.544e-08</td>\n",
       "      <td>1.374</td>\n",
       "      <td>8411.68</td>\n",
       "      <td>0.3004</td>\n",
       "      <td>0.05</td>\n",
       "    </tr>\n",
       "    <tr>\n",
       "      <th>1</th>\n",
       "      <td>COME051</td>\n",
       "      <td>333.5</td>\n",
       "      <td>0.5</td>\n",
       "      <td>0</td>\n",
       "      <td>0</td>\n",
       "      <td>19</td>\n",
       "      <td>0</td>\n",
       "      <td>18</td>\n",
       "      <td>0</td>\n",
       "      <td>3</td>\n",
       "      <td>...</td>\n",
       "      <td>3.2357</td>\n",
       "      <td>1890.73</td>\n",
       "      <td>0.437387</td>\n",
       "      <td>59.1281</td>\n",
       "      <td>1.08589e-05</td>\n",
       "      <td>9.3275e-08</td>\n",
       "      <td>1.36835</td>\n",
       "      <td>8286.12</td>\n",
       "      <td>0.29033</td>\n",
       "      <td>0.2</td>\n",
       "    </tr>\n",
       "    <tr>\n",
       "      <th>2</th>\n",
       "      <td>MINFM7375</td>\n",
       "      <td>114</td>\n",
       "      <td>0</td>\n",
       "      <td>0</td>\n",
       "      <td>0</td>\n",
       "      <td>17</td>\n",
       "      <td>0</td>\n",
       "      <td>67.0499</td>\n",
       "      <td>0</td>\n",
       "      <td>0</td>\n",
       "      <td>...</td>\n",
       "      <td>2.69553</td>\n",
       "      <td>1712.44</td>\n",
       "      <td>0.415431</td>\n",
       "      <td>50.9788</td>\n",
       "      <td>9.81689e-06</td>\n",
       "      <td>9.43999e-08</td>\n",
       "      <td>1.2847</td>\n",
       "      <td>7205.95</td>\n",
       "      <td>0.254945</td>\n",
       "      <td>0.05</td>\n",
       "    </tr>\n",
       "    <tr>\n",
       "      <th>3</th>\n",
       "      <td>MINFM7378</td>\n",
       "      <td>114</td>\n",
       "      <td>0</td>\n",
       "      <td>0</td>\n",
       "      <td>0</td>\n",
       "      <td>17</td>\n",
       "      <td>0</td>\n",
       "      <td>67.5899</td>\n",
       "      <td>0</td>\n",
       "      <td>0</td>\n",
       "      <td>...</td>\n",
       "      <td>2.71103</td>\n",
       "      <td>1722.21</td>\n",
       "      <td>0.417823</td>\n",
       "      <td>51.2804</td>\n",
       "      <td>9.88061e-06</td>\n",
       "      <td>9.49399e-08</td>\n",
       "      <td>1.29226</td>\n",
       "      <td>7248.47</td>\n",
       "      <td>0.256511</td>\n",
       "      <td>0.05</td>\n",
       "    </tr>\n",
       "    <tr>\n",
       "      <th>4</th>\n",
       "      <td>MINFM50412</td>\n",
       "      <td>85</td>\n",
       "      <td>0</td>\n",
       "      <td>0</td>\n",
       "      <td>0</td>\n",
       "      <td>22</td>\n",
       "      <td>0</td>\n",
       "      <td>57.8449</td>\n",
       "      <td>0</td>\n",
       "      <td>0</td>\n",
       "      <td>...</td>\n",
       "      <td>2.71615</td>\n",
       "      <td>1721.56</td>\n",
       "      <td>0.416773</td>\n",
       "      <td>50.7858</td>\n",
       "      <td>9.5117e-06</td>\n",
       "      <td>9.44249e-08</td>\n",
       "      <td>1.27983</td>\n",
       "      <td>7194.47</td>\n",
       "      <td>0.25115</td>\n",
       "      <td>0.05</td>\n",
       "    </tr>\n",
       "  </tbody>\n",
       "</table>\n",
       "<p>5 rows × 28 columns</p>\n",
       "</div>"
      ],
      "text/plain": [
       "  internal_id avg_hardness   Al  B  C  Cr Cu       Fe Mn Mo  ...  \\\n",
       "0     COME029           80    0  0  0   0  0       48  0  0  ...   \n",
       "1     COME051        333.5  0.5  0  0  19  0       18  0  3  ...   \n",
       "2   MINFM7375          114    0  0  0  17  0  67.0499  0  0  ...   \n",
       "3   MINFM7378          114    0  0  0  17  0  67.5899  0  0  ...   \n",
       "4  MINFM50412           85    0  0  0  22  0  57.8449  0  0  ...   \n",
       "\n",
       "  lattice_constant melting_point specific_heat atomic_mass          CTE  \\\n",
       "0            3.208       1765.36         0.443     57.3262   1.2632e-05   \n",
       "1           3.2357       1890.73      0.437387     59.1281  1.08589e-05   \n",
       "2          2.69553       1712.44      0.415431     50.9788  9.81689e-06   \n",
       "3          2.71103       1722.21      0.417823     51.2804  9.88061e-06   \n",
       "4          2.71615       1721.56      0.416773     50.7858   9.5117e-06   \n",
       "\n",
       "  electrical_resistivity atomic_radius density_of_solid poissons_ratio  \\\n",
       "0              8.544e-08         1.374          8411.68         0.3004   \n",
       "1             9.3275e-08       1.36835          8286.12        0.29033   \n",
       "2            9.43999e-08        1.2847          7205.95       0.254945   \n",
       "3            9.49399e-08       1.29226          7248.47       0.256511   \n",
       "4            9.44249e-08       1.27983          7194.47        0.25115   \n",
       "\n",
       "  max_min_radius  \n",
       "0           0.05  \n",
       "1            0.2  \n",
       "2           0.05  \n",
       "3           0.05  \n",
       "4           0.05  \n",
       "\n",
       "[5 rows x 28 columns]"
      ]
     },
     "execution_count": 89,
     "metadata": {},
     "output_type": "execute_result"
    }
   ],
   "source": [
    "# Load in the data\n",
    "raw_df = np.loadtxt(open(\"df_no_duplicates_clean.csv\", \"r\"), delimiter = ',', dtype = str, skiprows = 0)\n",
    "\n",
    "# Get the labels\n",
    "df_labels = raw_df[0,1:]\n",
    "\n",
    "# Make the dataframe\n",
    "df = pd.DataFrame(raw_df[1:,1:], columns = df_labels)\n",
    "\n",
    "# Convert to numeric values\n",
    "df.iloc[:,1:] = df.iloc[:,1:].apply(pd.to_numeric)\n",
    "\n",
    "# We're also going to check for any columns that are all zero. If this is the case, then the standard deviation\n",
    "# will be zero, so we would be dividing by zero!\n",
    "df.loc[:, (df == 0).all(axis=0)].head()\n",
    "\n",
    "df = df.drop('avg_yield', axis = 1)\n",
    "\n",
    "# dimensions of dataframe\n",
    "print(np.shape(df.values))\n",
    "df.head()"
   ]
  },
  {
   "cell_type": "code",
   "execution_count": 90,
   "metadata": {},
   "outputs": [
    {
     "name": "stdout",
     "output_type": "stream",
     "text": [
      "(630, 27)\n"
     ]
    },
    {
     "name": "stderr",
     "output_type": "stream",
     "text": [
      "/apps/share64/debian7/anaconda/anaconda-6/lib/python3.7/site-packages/sklearn/utils/validation.py:595: DataConversionWarning: Data with input dtype object was converted to float64 by the scale function.\n",
      "  warnings.warn(msg, DataConversionWarning)\n",
      "/apps/share64/debian7/anaconda/anaconda-6/lib/python3.7/site-packages/sklearn/preprocessing/data.py:180: UserWarning: Numerical issues were encountered when centering the data and might not be solved. Dataset may contain too large values. You may need to prescale your features.\n",
      "  warnings.warn(\"Numerical issues were encountered \"\n"
     ]
    }
   ],
   "source": [
    "data = scale(df.iloc[:,1:].values)\n",
    "n_groups = 3\n",
    "labels = df.iloc[:,0]\n",
    "\n",
    "# Shape of data\n",
    "print(np.shape(data))"
   ]
  },
  {
   "cell_type": "code",
   "execution_count": 91,
   "metadata": {},
   "outputs": [
    {
     "name": "stdout",
     "output_type": "stream",
     "text": [
      "[[-1.76238442  3.30988326]\n",
      " [ 0.26387441  0.93460825]\n",
      " [ 4.2952195  -0.05936732]\n",
      " ...\n",
      " [ 5.80182304 -2.13184145]\n",
      " [ 1.39988017 -1.49499298]\n",
      " [ 5.83542366 -1.44271167]]\n"
     ]
    },
    {
     "data": {
      "text/plain": [
       "KMeans(algorithm='auto', copy_x=True, init='k-means++', max_iter=300,\n",
       "    n_clusters=3, n_init=10, n_jobs=None, precompute_distances='auto',\n",
       "    random_state=None, tol=0.0001, verbose=0)"
      ]
     },
     "execution_count": 91,
     "metadata": {},
     "output_type": "execute_result"
    }
   ],
   "source": [
    "# Run the skLearn kmeans model\n",
    "reduced_data = PCA(n_components = 2).fit_transform(data)\n",
    "kmeans = KMeans(init = 'k-means++', n_clusters = n_groups, n_init = 10)\n",
    "\n",
    "print(reduced_data)\n",
    "\n",
    "kmeans.fit(reduced_data)"
   ]
  },
  {
   "cell_type": "code",
   "execution_count": 17,
   "metadata": {},
   "outputs": [
    {
     "name": "stdout",
     "output_type": "stream",
     "text": [
      "(630, 28)\n",
      "(630, 26)\n",
      "(630, 2)\n",
      "630\n",
      "[3.37501226e+01 9.50994456e+00 8.18569756e+00 7.15953528e+00\n",
      " 6.53507886e+00 5.31431348e+00 4.28609977e+00 4.01303615e+00\n",
      " 3.68536398e+00 3.39023185e+00 2.79550724e+00 2.54675870e+00\n",
      " 2.23552330e+00 1.98199430e+00 1.33562601e+00 1.30094966e+00\n",
      " 1.12832164e+00 8.45895049e-01 1.22232952e-28 5.60795225e-29\n",
      " 4.38878632e-29 2.77959166e-29 1.71644813e-29 1.04851276e-29\n",
      " 6.80464644e-30 6.06708015e-30]\n"
     ]
    }
   ],
   "source": [
    "# This should give us the \"optimal\" number of descriptors\n",
    "optimal_num_dim = PCA(n_components = 'mle').fit_transform(data)\n",
    "scaled_data = PCA(n_components = 28).fit_transform(data)\n",
    "\n",
    "# The shape of the original data\n",
    "print(np.shape(scaled_data))\n",
    "# The \"optimal\" number of descriptors according to the MLE (maximum likelihood estimator)\n",
    "print(np.shape(optimal_num_dim))\n",
    "# Reduced data to two dimensions so that results are graphable\n",
    "print(np.shape(reduced_data))\n",
    "\n",
    "scaled_df = pd.DataFrame(scaled_data)\n",
    "print(len(scaled_df))\n",
    "scaled_df.head()\n",
    "#scaled_df.eq(pd.DataFrame(optimal_num_dim))\n",
    "#log_df = scaled_df.head() == pd.DataFrame(optimal_num_dim).head()\n",
    "#pd.DataFrame(reduced_data).head()\n",
    "#pd.DataFrame(optimal_num_dim).head()\n",
    "#print(log_df)\n",
    "\n",
    "# From much messing around, I have determined that the \"optimal\" dimensions include every descriptor except for the last two, which in this\n",
    "# case are max_min_radius and poisson's ratio\n",
    "# If it is taking off the last two, then could it be that it always takes of the last two?\n",
    "\n",
    "# Also, according to this stuff, the reduced_data is just graphing the first two \n",
    "pca_data = PCA(n_components = 'mle')\n",
    "pca_data.fit_transform(data)\n",
    "print(pca_data.explained_variance_ratio_ * 100)"
   ]
  },
  {
   "cell_type": "code",
   "execution_count": 92,
   "metadata": {},
   "outputs": [
    {
     "data": {
      "image/png": "[encoded data removed]",
      "text/plain": [
       "<Figure size 432x288 with 1 Axes>"
      ]
     },
     "metadata": {
      "needs_background": "light"
     },
     "output_type": "display_data"
    }
   ],
   "source": [
    "# Plot\n",
    "plt.figure(1)\n",
    "plt.plot(reduced_data[:, 0], reduced_data[:, 1], 'k.', markersize=2)\n",
    "\n",
    "centroids = kmeans.cluster_centers_\n",
    "plt.scatter(centroids[:, 0], centroids[:, 1],\n",
    "            marker='x', s=169, linewidths=3,\n",
    "            color='r', zorder=10)\n",
    "plt.grid()\n",
    "plt.title('K-means clustering on hardness data (PCA-reduced data)\\n'\n",
    "          'Centroids are marked with red X')\n",
    "plt.show()"
   ]
  },
  {
   "cell_type": "markdown",
   "metadata": {},
   "source": [
    "What does PCA do anyway?\n",
    "Following this site example, (https://sebastianraschka.com/Articles/2014_pca_step_by_step.html), I will...\n",
    "1. Compute the mean vector (28 means for 28 descriptors)\n",
    "2. Calculate the covariance matrix (should be 28x28)\n",
    "3. "
   ]
  },
  {
   "cell_type": "markdown",
   "metadata": {},
   "source": [
    "We first calculate the mean vectors for the 28 descriptors. We also scale our data since the units are all different.\n",
    "The data is a 630x28 array.\n",
    "The mean vector is 28 columns and 1 row."
   ]
  },
  {
   "cell_type": "code",
   "execution_count": 76,
   "metadata": {},
   "outputs": [
    {
     "name": "stdout",
     "output_type": "stream",
     "text": [
      "(630, 28)\n",
      "[-9.31529985e-16  1.34548457e-16  2.83723662e-16 -7.21424684e-16\n",
      " -1.89971495e-16 -5.90004236e-16  3.16325449e-17 -1.52611609e-16\n",
      "  2.64162590e-16  9.38755246e-16 -2.22749508e-16 -1.53382598e-16\n",
      " -2.12175956e-16 -7.13714802e-18 -6.93448826e-16  6.69129655e-16\n",
      "  6.22517910e-16 -1.23358114e-18 -4.26466622e-17 -2.11471052e-18\n",
      "  1.09964947e-16 -1.54021416e-16 -8.45884209e-17 -4.04614613e-16\n",
      "  1.26882631e-16  7.54246753e-17 -9.12850042e-17 -7.11952543e-17]\n"
     ]
    },
    {
     "name": "stderr",
     "output_type": "stream",
     "text": [
      "/apps/share64/debian7/anaconda/anaconda-6/lib/python3.7/site-packages/sklearn/utils/validation.py:595: DataConversionWarning: Data with input dtype object was converted to float64 by the scale function.\n",
      "  warnings.warn(msg, DataConversionWarning)\n",
      "/apps/share64/debian7/anaconda/anaconda-6/lib/python3.7/site-packages/sklearn/preprocessing/data.py:180: UserWarning: Numerical issues were encountered when centering the data and might not be solved. Dataset may contain too large values. You may need to prescale your features.\n",
      "  warnings.warn(\"Numerical issues were encountered \"\n"
     ]
    }
   ],
   "source": [
    "# Scale the data and leave out the internal ID\n",
    "data = scale(df.iloc[:,1:].values)\n",
    "\n",
    "# Calculate the mean vector\n",
    "mean = np.mean(data, axis = 0)\n",
    "\n",
    "# Shape of the data\n",
    "print(np.shape(data))\n",
    "\n",
    "# Mean vector\n",
    "print(mean)"
   ]
  },
  {
   "cell_type": "markdown",
   "metadata": {},
   "source": [
    "Now, we want to transform our data since np.cov() takes the covariance of each row.\n",
    "We want the covariance per column (descriptor)"
   ]
  },
  {
   "cell_type": "code",
   "execution_count": 85,
   "metadata": {},
   "outputs": [
    {
     "name": "stdout",
     "output_type": "stream",
     "text": [
      "(28, 630)\n",
      "(28, 28)\n",
      "[ 0.19748758  0.27858872 -0.00917001  0.01909936  0.57113271 -0.43049469\n",
      " -0.07837639  0.34501942  0.21612997 -0.00173322  0.21393781 -0.04525144\n",
      " -0.14684499  0.08665198  0.11285871 -0.12402269  0.17338573 -0.03019651\n",
      "  0.44512917  0.30225806  0.38711853  0.40398699  0.43889856  0.08665198\n",
      "  0.38132263  0.40103019  0.34385423  1.00158983]\n"
     ]
    }
   ],
   "source": [
    "# Transform the data so that it is a 28x630 array\n",
    "tdata = data.T\n",
    "print(np.shape(tdata))\n",
    "\n",
    "# Calculate the covariance matrix\n",
    "cov_mat = np.cov(tdata.astype(float))\n",
    "\n",
    "# Shape\n",
    "print(np.shape(cov_mat))\n",
    "\n",
    "# There are 28 28x28 matrices....\n",
    "print(cov_mat[27])"
   ]
  },
  {
   "cell_type": "code",
   "execution_count": 51,
   "metadata": {},
   "outputs": [
    {
     "ename": "AssertionError",
     "evalue": "\nArrays are not almost equal to 6 decimals\n\nMismatch: 100%\nMax absolute difference: 0.00032284\nMax relative difference: 0.00032294\n x: array(1.)\n y: array(0.999677)",
     "output_type": "error",
     "traceback": [
      "\u001b[0;31m---------------------------------------------------------------------------\u001b[0m",
      "\u001b[0;31mAssertionError\u001b[0m                            Traceback (most recent call last)",
      "\u001b[0;32m<ipython-input-51-5c710ce61942>\u001b[0m in \u001b[0;36m<module>\u001b[0;34m\u001b[0m\n\u001b[1;32m      3\u001b[0m \u001b[0;34m\u001b[0m\u001b[0m\n\u001b[1;32m      4\u001b[0m \u001b[0;32mfor\u001b[0m \u001b[0mev\u001b[0m \u001b[0;32min\u001b[0m \u001b[0meig_vec_cov\u001b[0m\u001b[0;34m:\u001b[0m\u001b[0;34m\u001b[0m\u001b[0;34m\u001b[0m\u001b[0m\n\u001b[0;32m----> 5\u001b[0;31m     \u001b[0mnp\u001b[0m\u001b[0;34m.\u001b[0m\u001b[0mtesting\u001b[0m\u001b[0;34m.\u001b[0m\u001b[0massert_array_almost_equal\u001b[0m\u001b[0;34m(\u001b[0m\u001b[0;36m1.0\u001b[0m\u001b[0;34m,\u001b[0m \u001b[0mnp\u001b[0m\u001b[0;34m.\u001b[0m\u001b[0mlinalg\u001b[0m\u001b[0;34m.\u001b[0m\u001b[0mnorm\u001b[0m\u001b[0;34m(\u001b[0m\u001b[0mev\u001b[0m\u001b[0;34m)\u001b[0m\u001b[0;34m)\u001b[0m\u001b[0;34m\u001b[0m\u001b[0;34m\u001b[0m\u001b[0m\n\u001b[0m",
      "\u001b[0;32m/apps/share64/debian7/anaconda/anaconda-6/lib/python3.7/site-packages/numpy/testing/_private/utils.py\u001b[0m in \u001b[0;36massert_array_almost_equal\u001b[0;34m(x, y, decimal, err_msg, verbose)\u001b[0m\n\u001b[1;32m   1005\u001b[0m     assert_array_compare(compare, x, y, err_msg=err_msg, verbose=verbose,\n\u001b[1;32m   1006\u001b[0m              \u001b[0mheader\u001b[0m\u001b[0;34m=\u001b[0m\u001b[0;34m(\u001b[0m\u001b[0;34m'Arrays are not almost equal to %d decimals'\u001b[0m \u001b[0;34m%\u001b[0m \u001b[0mdecimal\u001b[0m\u001b[0;34m)\u001b[0m\u001b[0;34m,\u001b[0m\u001b[0;34m\u001b[0m\u001b[0;34m\u001b[0m\u001b[0m\n\u001b[0;32m-> 1007\u001b[0;31m              precision=decimal)\n\u001b[0m\u001b[1;32m   1008\u001b[0m \u001b[0;34m\u001b[0m\u001b[0m\n\u001b[1;32m   1009\u001b[0m \u001b[0;34m\u001b[0m\u001b[0m\n",
      "\u001b[0;32m/apps/share64/debian7/anaconda/anaconda-6/lib/python3.7/site-packages/numpy/testing/_private/utils.py\u001b[0m in \u001b[0;36massert_array_compare\u001b[0;34m(comparison, x, y, err_msg, verbose, header, precision, equal_nan, equal_inf)\u001b[0m\n\u001b[1;32m    817\u001b[0m                                 \u001b[0mverbose\u001b[0m\u001b[0;34m=\u001b[0m\u001b[0mverbose\u001b[0m\u001b[0;34m,\u001b[0m \u001b[0mheader\u001b[0m\u001b[0;34m=\u001b[0m\u001b[0mheader\u001b[0m\u001b[0;34m,\u001b[0m\u001b[0;34m\u001b[0m\u001b[0;34m\u001b[0m\u001b[0m\n\u001b[1;32m    818\u001b[0m                                 names=('x', 'y'), precision=precision)\n\u001b[0;32m--> 819\u001b[0;31m             \u001b[0;32mraise\u001b[0m \u001b[0mAssertionError\u001b[0m\u001b[0;34m(\u001b[0m\u001b[0mmsg\u001b[0m\u001b[0;34m)\u001b[0m\u001b[0;34m\u001b[0m\u001b[0;34m\u001b[0m\u001b[0m\n\u001b[0m\u001b[1;32m    820\u001b[0m     \u001b[0;32mexcept\u001b[0m \u001b[0mValueError\u001b[0m\u001b[0;34m:\u001b[0m\u001b[0;34m\u001b[0m\u001b[0;34m\u001b[0m\u001b[0m\n\u001b[1;32m    821\u001b[0m         \u001b[0;32mimport\u001b[0m \u001b[0mtraceback\u001b[0m\u001b[0;34m\u001b[0m\u001b[0;34m\u001b[0m\u001b[0m\n",
      "\u001b[0;31mAssertionError\u001b[0m: \nArrays are not almost equal to 6 decimals\n\nMismatch: 100%\nMax absolute difference: 0.00032284\nMax relative difference: 0.00032294\n x: array(1.)\n y: array(0.999677)"
     ]
    }
   ],
   "source": [
    "# Get the eigencalues and eigenvectors\n",
    "eig_val_cov, eig_vec_cov = np.linalg.eig(cov_mat)\n",
    "\n",
    "for ev in eig_vec_cov:\n",
    "    np.testing.assert_array_almost_equal(1.0, np.linalg.norm(ev))\n"
   ]
  },
  {
   "cell_type": "code",
   "execution_count": 52,
   "metadata": {},
   "outputs": [
    {
     "name": "stdout",
     "output_type": "stream",
     "text": [
      "9.465058232193247\n",
      "2.667017839163598\n",
      "2.295639188992739\n",
      "2.007856952057168\n",
      "1.8327311769297854\n",
      "1.4903734477030748\n",
      "1.2020158976342132\n",
      "1.125436530430078\n",
      "1.0335424589441804\n",
      "0.9507740823643105\n",
      "0.783986450503599\n",
      "0.7142261277904582\n",
      "0.6269416682944873\n",
      "0.5558406913080649\n",
      "0.3745698368340464\n",
      "0.3648450237538181\n",
      "0.31643233361238265\n",
      "0.23722716482937878\n",
      "4.921368286467249e-16\n",
      "4.849846924207213e-16\n",
      "2.4371982934679e-16\n",
      "2.4371982934679e-16\n",
      "2.2876613719702217e-16\n",
      "1.8491324824561426e-16\n",
      "1.4240138938839306e-16\n",
      "1.246535558451866e-16\n",
      "1.226534034391998e-16\n",
      "3.922168687590963e-17\n"
     ]
    }
   ],
   "source": [
    "# Make a list of (eigenvalue, eigenvector) tuples\n",
    "eig_pairs = [(np.abs(eig_val_cov[i]), eig_vec_cov[:,i]) for i in range(len(eig_val_cov))]\n",
    "\n",
    "# Sort the (eigenvalue, eigenvector) tuples from high to low\n",
    "eig_pairs.sort(key=lambda x: x[0], reverse=True)\n",
    "\n",
    "# Visually confirm that the list is correctly sorted by decreasing eigenvalues\n",
    "for i in eig_pairs:\n",
    "    print(i[0])"
   ]
  },
  {
   "cell_type": "code",
   "execution_count": 53,
   "metadata": {},
   "outputs": [
    {
     "name": "stdout",
     "output_type": "stream",
     "text": [
      "Matrix W:\n",
      " [[-0.01123015+0.j -0.07099178+0.j]\n",
      " [ 0.08770227+0.j -0.09390012+0.j]\n",
      " [-0.02524915+0.j -0.05897366+0.j]\n",
      " [-0.05256361+0.j -0.0537196 +0.j]\n",
      " [ 0.20718002+0.j -0.10588677+0.j]\n",
      " [-0.29203225+0.j  0.17958223+0.j]\n",
      " [-0.04736677+0.j -0.30527366+0.j]\n",
      " [ 0.30038017+0.j  0.05581555+0.j]\n",
      " [ 0.01878674+0.j -0.26893958+0.j]\n",
      " [-0.11030712+0.j  0.22097951+0.j]\n",
      " [-0.11246468+0.j -0.00376075+0.j]\n",
      " [-0.00241371+0.j -0.02828092+0.j]\n",
      " [-0.19068146+0.j -0.25599014+0.j]\n",
      " [ 0.04301639+0.j -0.04995891+0.j]\n",
      " [-0.01174409+0.j -0.29759979+0.j]\n",
      " [-0.02927823+0.j -0.07101299+0.j]\n",
      " [ 0.04336847+0.j -0.06062291+0.j]\n",
      " [ 0.07602032+0.j  0.5254923 +0.j]\n",
      " [ 0.19170561+0.j -0.31663589+0.j]\n",
      " [ 0.25259565+0.j  0.31792442+0.j]\n",
      " [ 0.30948228+0.j  0.04476665+0.j]\n",
      " [ 0.30834744+0.j  0.04193195+0.j]\n",
      " [ 0.30315178+0.j -0.18280714+0.j]\n",
      " [ 0.04301639+0.j -0.04995891+0.j]\n",
      " [ 0.31999505+0.j  0.08154218+0.j]\n",
      " [ 0.30658847+0.j -0.02133084+0.j]\n",
      " [ 0.30246066+0.j  0.00941405+0.j]\n",
      " [ 0.1517355 +0.j -0.16846186+0.j]]\n"
     ]
    }
   ],
   "source": [
    "matrix_w = np.hstack((eig_pairs[0][1].reshape(28,1), eig_pairs[1][1].reshape(28,1)))\n",
    "print('Matrix W:\\n', matrix_w)"
   ]
  },
  {
   "cell_type": "code",
   "execution_count": 66,
   "metadata": {},
   "outputs": [],
   "source": [
    "transformed = matrix_w.T.dot(tdata) * (-1)\n",
    "assert transformed.shape == (2,630), \"The matrix is not 2x630 dimensional.\""
   ]
  },
  {
   "cell_type": "code",
   "execution_count": 67,
   "metadata": {},
   "outputs": [
    {
     "name": "stdout",
     "output_type": "stream",
     "text": [
      "[[-1.70805426+0.j  0.02506768-0.j  4.27810835-0.j ...  5.70040969-0.j\n",
      "   1.45377261-0.j  5.76388303-0.j]\n",
      " [ 3.24987623-0.j  2.28279295-0.j -0.12810363+0.j ... -1.6864573 +0.j\n",
      "  -1.5909695 +0.j -1.17043185+0.j]]\n"
     ]
    }
   ],
   "source": [
    "print(transformed)"
   ]
  },
  {
   "cell_type": "code",
   "execution_count": 72,
   "metadata": {},
   "outputs": [
    {
     "data": {
      "image/png": "[encoded data removed]",
      "text/plain": [
       "<Figure size 432x288 with 1 Axes>"
      ]
     },
     "metadata": {
      "needs_background": "light"
     },
     "output_type": "display_data"
    }
   ],
   "source": [
    "plt.plot(transformed[0,0:630], transformed[1,0:630], '.', markersize=7, color='black', alpha=0.25, label='class1')\n",
    "plt.xlim([-5,8])\n",
    "plt.ylim([-8, 22])\n",
    "plt.xlabel('x_values')\n",
    "plt.ylabel('y_values')\n",
    "plt.legend()\n",
    "plt.title('Transformed samples with class labels')\n",
    "\n",
    "plt.show()"
   ]
  },
  {
   "attachments": {
    "image.png": {
     "image/png": "[encoded data removed]"
    }
   },
   "cell_type": "markdown",
   "metadata": {},
   "source": [
    "![image.png](attachment:image.png)"
   ]
  },
  {
   "cell_type": "code",
   "execution_count": null,
   "metadata": {},
   "outputs": [],
   "source": []
  }
 ],
 "metadata": {
  "kernelspec": {
   "display_name": "Python 3",
   "language": "python",
   "name": "python3"
  },
  "language_info": {
   "codemirror_mode": {
    "name": "ipython",
    "version": 3
   },
   "file_extension": ".py",
   "mimetype": "text/x-python",
   "name": "python",
   "nbconvert_exporter": "python",
   "pygments_lexer": "ipython3",
   "version": "3.7.3"
  }
 },
 "nbformat": 4,
 "nbformat_minor": 2
}
